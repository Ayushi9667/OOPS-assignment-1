{
 "cells": [
  {
   "cell_type": "markdown",
   "id": "84e30a61-54e8-4516-ab82-7caf2d417d52",
   "metadata": {},
   "source": [
    "Q1. Explain Class and Object with respect to Object-Oriented Programming. Give a suitable example."
   ]
  },
  {
   "cell_type": "markdown",
   "id": "74fd812b-a9cd-4186-b910-e233765966b9",
   "metadata": {},
   "source": [
    "Ans. class is a just a classification, characterization, classification of a real world entity (blueprint)...but not specific to a real world entity\n",
    " object is a real world entity. object is also called as variable or instant.\n",
    " \n",
    "\"Objects have states and behaviors.For ex: A girl has states- height, weight, skin colour. Class describes the behavior/state of that object\"\n"
   ]
  },
  {
   "cell_type": "code",
   "execution_count": 1,
   "id": "c7d0116a-639c-4047-8b8a-953774a28443",
   "metadata": {},
   "outputs": [],
   "source": [
    "a=1"
   ]
  },
  {
   "cell_type": "code",
   "execution_count": 2,
   "id": "9e413b30-1f08-4127-83bf-1641d5b14d72",
   "metadata": {},
   "outputs": [
    {
     "name": "stdout",
     "output_type": "stream",
     "text": [
      "<class 'int'>\n"
     ]
    }
   ],
   "source": [
    "print(type(a))"
   ]
  },
  {
   "cell_type": "raw",
   "id": "e8cf95ee-8331-4304-b79c-efaacc7dcda7",
   "metadata": {},
   "source": [
    "Here, 'a' is a object.\n",
    "whereas classs provides a structured way to write a code"
   ]
  },
  {
   "cell_type": "markdown",
   "id": "29e6af54-88d4-4545-9edf-de5fa88d21fc",
   "metadata": {},
   "source": [
    "Q2. Name the four pillars of OOPs."
   ]
  },
  {
   "cell_type": "code",
   "execution_count": 2,
   "id": "6f2a84ff-13b7-4c0d-86cc-c25b7fb2fa10",
   "metadata": {},
   "outputs": [],
   "source": [
    "#Polymorphism\n",
    "\n",
    "class data_science:\n",
    "    \n",
    "    def syllabus(self) : \n",
    "        print(\"this is my syllabus for data science masters \")"
   ]
  },
  {
   "cell_type": "code",
   "execution_count": 3,
   "id": "85dd710d-c7d6-4333-89dd-4335a7c07759",
   "metadata": {},
   "outputs": [],
   "source": [
    "class web_dev:\n",
    "    \n",
    "    def syllabus(self) : \n",
    "        print(\"this is  my subllabus for web dev\" )"
   ]
  },
  {
   "cell_type": "code",
   "execution_count": 5,
   "id": "a95cbbf8-b2c1-457f-b760-3c3f42a3ea19",
   "metadata": {},
   "outputs": [],
   "source": [
    "def class_parcer(class_obj):\n",
    "    for i in class_obj : \n",
    "        i.syllabus()"
   ]
  },
  {
   "cell_type": "code",
   "execution_count": 6,
   "id": "5e82f805-d1a7-4016-b946-be64b2ef919f",
   "metadata": {},
   "outputs": [],
   "source": [
    "data_science = data_science()\n",
    "web_dev = web_dev()\n",
    "class_obj = [data_science , web_dev]"
   ]
  },
  {
   "cell_type": "code",
   "execution_count": 7,
   "id": "e941b32b-4227-460c-a61d-0fb21380409e",
   "metadata": {},
   "outputs": [
    {
     "name": "stdout",
     "output_type": "stream",
     "text": [
      "this is my syllabus for data science masters \n",
      "this is  my subllabus for web dev\n"
     ]
    }
   ],
   "source": [
    "class_parcer(class_obj)"
   ]
  },
  {
   "cell_type": "code",
   "execution_count": 9,
   "id": "09f5592e-9f8c-4b1f-998f-5beb7ea1c5bc",
   "metadata": {},
   "outputs": [],
   "source": [
    "#Encapsulation\n",
    "\n",
    "class test : \n",
    "    \n",
    "    \n",
    "    def __init__(self , a, b ):\n",
    "        self.a = a \n",
    "        self.b = b"
   ]
  },
  {
   "cell_type": "code",
   "execution_count": 10,
   "id": "0831555a-6471-45bf-bd43-218bbba4ebf1",
   "metadata": {},
   "outputs": [],
   "source": [
    "t = test(23,34)"
   ]
  },
  {
   "cell_type": "code",
   "execution_count": 12,
   "id": "800ab42f-52d5-44f0-a9b5-4fc8f93c7b64",
   "metadata": {},
   "outputs": [],
   "source": [
    "t.a=5342"
   ]
  },
  {
   "cell_type": "code",
   "execution_count": 13,
   "id": "f4c1f7f2-8de6-4725-9bde-1549ea8377d9",
   "metadata": {},
   "outputs": [
    {
     "data": {
      "text/plain": [
       "5342"
      ]
     },
     "execution_count": 13,
     "metadata": {},
     "output_type": "execute_result"
    }
   ],
   "source": [
    "t.a"
   ]
  },
  {
   "cell_type": "code",
   "execution_count": 15,
   "id": "32dfce09-47c8-4822-8a98-09c97179b0ae",
   "metadata": {},
   "outputs": [],
   "source": [
    "#Inheritance\n",
    "\n",
    "class parent:\n",
    "    \n",
    "    def test_parent(self) : \n",
    "        print(\"this is my parent class \")"
   ]
  },
  {
   "cell_type": "code",
   "execution_count": 16,
   "id": "04aefa9e-d4df-49ba-ade2-0c53eb64e83b",
   "metadata": {},
   "outputs": [],
   "source": [
    "class child(parent):\n",
    "    pass"
   ]
  },
  {
   "cell_type": "code",
   "execution_count": 17,
   "id": "3b9188df-9f3f-441e-a151-7ea4e97d4a3b",
   "metadata": {},
   "outputs": [],
   "source": [
    "child_obj = child()"
   ]
  },
  {
   "cell_type": "code",
   "execution_count": 18,
   "id": "e169608c-3972-4854-9e10-927172f7c3b2",
   "metadata": {},
   "outputs": [
    {
     "name": "stdout",
     "output_type": "stream",
     "text": [
      "this is my parent class \n"
     ]
    }
   ],
   "source": [
    "child_obj.test_parent()"
   ]
  },
  {
   "cell_type": "code",
   "execution_count": 25,
   "id": "267fad49-bbc1-444d-9e7e-5610656b0e03",
   "metadata": {},
   "outputs": [
    {
     "name": "stdout",
     "output_type": "stream",
     "text": [
      "The mileage of Tesla is 30kmph\n",
      "The mileage of Suzuki is 25kmph \n"
     ]
    }
   ],
   "source": [
    "#Abstraction\n",
    "\n",
    "import abc \n",
    "\n",
    "class Car: \n",
    "    \n",
    "    @abc.abstractmethod\n",
    "    def mileage(self):   \n",
    "        pass  \n",
    "  \n",
    "class Tesla(Car):   \n",
    "    def mileage(self):   \n",
    "        print(\"The mileage of Tesla is 30kmph\")   \n",
    "        \n",
    "class Suzuki(Car):   \n",
    "    def mileage(self):   \n",
    "        print(\"The mileage of Suzuki is 25kmph \")   \n",
    "\n",
    "# Driver code   \n",
    "t= Tesla ()   \n",
    "t.mileage()     \n",
    "  \n",
    "s = Suzuki()   \n",
    "s.mileage()   \n",
    "\n"
   ]
  },
  {
   "cell_type": "markdown",
   "id": "db5a4333-b18f-49ee-8e24-12a92e3b10f5",
   "metadata": {},
   "source": [
    "Q3. Explain why the __init__() function is used. Give a suitable example."
   ]
  },
  {
   "cell_type": "markdown",
   "id": "9b9c8717-6858-4d50-938d-305ca39f53fb",
   "metadata": {},
   "source": [
    "Ans. \"init\" means initialization, which  is used as a constructor. this method runs whenever a new object is created. These types of functions are used to initialize the attributes of that class, E.g., if the class is Girl, then the attributes will be name, age, etc."
   ]
  },
  {
   "cell_type": "code",
   "execution_count": 33,
   "id": "65a79912-eb19-4ada-a703-d8da36da6b9f",
   "metadata": {},
   "outputs": [],
   "source": [
    "class Girl:                   \n",
    " \n",
    "  def __init__(self,name,age):\n",
    "         self.name = name       \n",
    "         self.age = age\n",
    "   "
   ]
  },
  {
   "cell_type": "code",
   "execution_count": 34,
   "id": "8c53bdcd-0907-406e-9d5c-ac3a28bcdb4c",
   "metadata": {},
   "outputs": [
    {
     "name": "stdout",
     "output_type": "stream",
     "text": [
      "Name of this girl is Ayushi and she is 19 years old\n"
     ]
    }
   ],
   "source": [
    "a = Girl(\"Ayushi\",\"19\")\n",
    "print(\"Name of this girl is\",a.name,\"and she is\",a.age,\"years old\")"
   ]
  },
  {
   "cell_type": "markdown",
   "id": "99b5f77f-1927-4984-9c96-90f2e06397f4",
   "metadata": {},
   "source": [
    "Q4. Why self is used in OOPs?"
   ]
  },
  {
   "cell_type": "markdown",
   "id": "e3c331bf-fe67-400f-864a-b6cc7d9ace70",
   "metadata": {},
   "source": [
    "Ans. SELF represents the \"instance of class\". By using the “self” we can access the attributes and methods of the class in python. (instance of a class is also called an object)"
   ]
  },
  {
   "cell_type": "code",
   "execution_count": 35,
   "id": "ff430dbc-a62d-4c03-8353-daaa4f3bca92",
   "metadata": {},
   "outputs": [],
   "source": [
    "#The self parameter doesn’t have to be named “self,” we can call it by any other name...for example\n",
    "\n",
    "class Girl:                   \n",
    " \n",
    "  def __init__(ours,name,age):\n",
    "         ours.name = name       \n",
    "         ours.age = age"
   ]
  },
  {
   "cell_type": "code",
   "execution_count": 36,
   "id": "c01e4143-dbd1-4690-8025-3e8689685cac",
   "metadata": {},
   "outputs": [
    {
     "name": "stdout",
     "output_type": "stream",
     "text": [
      "Name of this girl is Ayushi and she is 19 years old\n"
     ]
    }
   ],
   "source": [
    "a = Girl(\"Ayushi\",\"19\")\n",
    "print(\"Name of this girl is\",a.name,\"and she is\",a.age,\"years old\")"
   ]
  },
  {
   "cell_type": "markdown",
   "id": "ba419e87-56b4-48d1-bdc9-c364f422c430",
   "metadata": {},
   "source": [
    "Q5. What is inheritance? Give an example for each type of inheritance."
   ]
  },
  {
   "cell_type": "markdown",
   "id": "913e9be5-97d0-40f9-be87-8a4eabd99bfc",
   "metadata": {},
   "source": [
    "Ans. In the process of Inheritance,child class acquires the property of parent class. For example, a child inherits the traits of his/her parents. With inheritance, we can reuse the fields and methods of the existing class.\n",
    "types of inheritance:-\n",
    "\n",
    "1- Single inheritsnce\n",
    "2- Multi-level inheritance \n",
    "3- Multiple inheritance \n",
    "4- Hierarchical\n",
    "5- Hybrid"
   ]
  },
  {
   "cell_type": "code",
   "execution_count": 37,
   "id": "1700bee6-09d6-41a7-985f-c08f27325a67",
   "metadata": {},
   "outputs": [],
   "source": [
    "#single inheritance\n",
    "\n",
    "class parent:\n",
    "    def func1(self):\n",
    "        print(\"This function is in parent class\")\n",
    "        \n",
    "#derived class\n",
    "class child(parent):\n",
    "     def func2(self):\n",
    "        print(\"This function is in child class\")\n",
    "        "
   ]
  },
  {
   "cell_type": "code",
   "execution_count": 38,
   "id": "0ec93255-5bb1-4725-9a38-4605c04cb165",
   "metadata": {},
   "outputs": [
    {
     "name": "stdout",
     "output_type": "stream",
     "text": [
      "This function is in parent class\n",
      "This function is in child class\n"
     ]
    }
   ],
   "source": [
    "object = child()\n",
    "object.func1()\n",
    "object.func2()"
   ]
  },
  {
   "cell_type": "code",
   "execution_count": 39,
   "id": "80260b75-200b-4640-9952-f18db4e0ca60",
   "metadata": {},
   "outputs": [],
   "source": [
    "#multiple inheritance\n",
    "\n",
    "class class1:\n",
    "    def test_class1(self) : \n",
    "        print(\"this is my class 1\" )\n",
    "        \n",
    "class class2 :\n",
    "    def test_class2(self) : \n",
    "        print(\"this is my class 2\")\n",
    "        \n",
    "class class3 (class1 , class2) : \n",
    "    pass        "
   ]
  },
  {
   "cell_type": "code",
   "execution_count": 40,
   "id": "238001aa-86e7-42c1-8a3d-0cbfa1bddc31",
   "metadata": {},
   "outputs": [
    {
     "name": "stdout",
     "output_type": "stream",
     "text": [
      "this is my class 1\n",
      "this is my class 2\n"
     ]
    }
   ],
   "source": [
    "obj_class3 = class3()\n",
    "obj_class3.test_class1()\n",
    "obj_class3.test_class2()"
   ]
  },
  {
   "cell_type": "code",
   "execution_count": 46,
   "id": "9abc00c8-6863-4002-b7f1-6b66a38e3e20",
   "metadata": {},
   "outputs": [],
   "source": [
    "#multilevel inheritance\n",
    "\n",
    "class class1:\n",
    "    def test_class1(self) : \n",
    "        print(\"this is my class 1\" )\n",
    "        \n",
    "class class2(class1) :\n",
    "    def test_class2(self) : \n",
    "        print(\"this is my class 2\")\n",
    "        \n",
    "class class3(class2) : \n",
    "    def test_class3(self) : \n",
    "        print(\"this is my class3 \")        "
   ]
  },
  {
   "cell_type": "code",
   "execution_count": 49,
   "id": "87539b54-df51-4a9d-b795-d64dc3123f8d",
   "metadata": {},
   "outputs": [
    {
     "name": "stdout",
     "output_type": "stream",
     "text": [
      "this is my class 1\n",
      "this is my class 2\n",
      "this is my class3 \n"
     ]
    }
   ],
   "source": [
    "obj_class3  = class3()\n",
    "obj_class3.test_class1()\n",
    "obj_class3.test_class2()\n",
    "obj_class3.test_class3()"
   ]
  },
  {
   "cell_type": "code",
   "execution_count": 52,
   "id": "813e6131-69cd-4345-ba24-592121aabc71",
   "metadata": {},
   "outputs": [],
   "source": [
    "class Parent:\n",
    "    def func1(self):\n",
    "        print(\"This function is in parent class.\")\n",
    " \n",
    "\n",
    "class Child1(Parent):\n",
    "    def func2(self):\n",
    "        print(\"This function is in child 1.\")\n",
    " \n",
    " \n",
    "class Child2(Parent):\n",
    "    def func3(self):\n",
    "        print(\"This function is in child 2.\")\n",
    " \n",
    " \n"
   ]
  },
  {
   "cell_type": "code",
   "execution_count": 53,
   "id": "2191ccd9-b610-44e0-bad2-530af6dc1b58",
   "metadata": {},
   "outputs": [
    {
     "name": "stdout",
     "output_type": "stream",
     "text": [
      "This function is in parent class.\n",
      "This function is in child 1.\n",
      "This function is in parent class.\n",
      "This function is in child 2.\n"
     ]
    }
   ],
   "source": [
    "object1 = Child1()\n",
    "object2 = Child2()\n",
    "object1.func1()\n",
    "object1.func2()\n",
    "object2.func1()\n",
    "object2.func3()"
   ]
  },
  {
   "cell_type": "code",
   "execution_count": null,
   "id": "213d1272-1fd5-47bd-a2aa-5bee1b0e9a2d",
   "metadata": {},
   "outputs": [],
   "source": []
  }
 ],
 "metadata": {
  "kernelspec": {
   "display_name": "Python 3 (ipykernel)",
   "language": "python",
   "name": "python3"
  },
  "language_info": {
   "codemirror_mode": {
    "name": "ipython",
    "version": 3
   },
   "file_extension": ".py",
   "mimetype": "text/x-python",
   "name": "python",
   "nbconvert_exporter": "python",
   "pygments_lexer": "ipython3",
   "version": "3.10.8"
  }
 },
 "nbformat": 4,
 "nbformat_minor": 5
}
